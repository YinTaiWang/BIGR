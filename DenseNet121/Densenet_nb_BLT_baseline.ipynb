{
 "cells": [
  {
   "cell_type": "markdown",
   "metadata": {},
   "source": [
    "## Setup"
   ]
  },
  {
   "cell_type": "markdown",
   "metadata": {},
   "source": [
    "imports"
   ]
  },
  {
   "cell_type": "code",
   "execution_count": 1,
   "metadata": {},
   "outputs": [
    {
     "name": "stdout",
     "output_type": "stream",
     "text": [
      "WARNING:tensorflow:From c:\\Users\\Yin\\anaconda3\\envs\\BIGR_3.10\\lib\\site-packages\\keras\\src\\losses.py:2976: The name tf.losses.sparse_softmax_cross_entropy is deprecated. Please use tf.compat.v1.losses.sparse_softmax_cross_entropy instead.\n",
      "\n",
      "MONAI version: 1.2.0+107.gc4ed1f80\n",
      "Numpy version: 1.26.0\n",
      "Pytorch version: 2.1.2+cpu\n",
      "MONAI flags: HAS_EXT = False, USE_COMPILED = False, USE_META_DICT = False\n",
      "MONAI rev id: c4ed1f80638324568cbe15851117b5494e5ec346\n",
      "MONAI __file__: C:\\Users\\<username>\\Desktop\\Vrije_courses\\internship\\libraries\\MONAI\\monai\\__init__.py\n",
      "\n",
      "Optional dependencies:\n",
      "Pytorch Ignite version: 0.4.11\n",
      "ITK version: 5.4.0\n",
      "Nibabel version: 5.1.0\n",
      "scikit-image version: 0.22.0\n",
      "scipy version: 1.11.3\n",
      "Pillow version: 10.0.1\n",
      "Tensorboard version: 2.15.1\n",
      "gdown version: 4.7.1\n",
      "TorchVision version: 0.16.2+cpu\n",
      "tqdm version: 4.66.1\n",
      "lmdb version: 1.4.1\n",
      "psutil version: 5.9.4\n",
      "pandas version: 2.1.1\n",
      "einops version: 0.7.0\n",
      "transformers version: NOT INSTALLED or UNKNOWN VERSION.\n",
      "mlflow version: 2.7.1\n",
      "pynrrd version: 1.0.0\n",
      "clearml version: NOT INSTALLED or UNKNOWN VERSION.\n",
      "\n",
      "For details about installing the optional dependencies, please visit:\n",
      "    https://docs.monai.io/en/latest/installation.html#installing-the-recommended-dependencies\n",
      "\n"
     ]
    }
   ],
   "source": [
    "import os\n",
    "import sys\n",
    "import glob\n",
    "import shutil\n",
    "import logging\n",
    "from tqdm import tqdm\n",
    "from datetime import datetime\n",
    "from collections import Counter\n",
    "import numpy as np\n",
    "import pandas as pd\n",
    "import matplotlib.pyplot as plt\n",
    "import seaborn as sns\n",
    "import torch\n",
    "from torch.utils.data import DataLoader, WeightedRandomSampler\n",
    "from torch.utils.tensorboard import SummaryWriter\n",
    "from sklearn.metrics import classification_report, confusion_matrix\n",
    "from sklearn.model_selection import StratifiedShuffleSplit\n",
    "\n",
    "import itk\n",
    "import SimpleITK as sitk\n",
    "import monai\n",
    "from monai.data import ImageDataset, DataLoader, decollate_batch\n",
    "from monai.metrics import ROCAUCMetric\n",
    "from monai.utils import set_determinism\n",
    "from monai.transforms import (\n",
    "    EnsureChannelFirst, Compose, Activations, AsDiscrete,\n",
    "    Resize, RandRotate, RandFlip, RandZoom, RandGaussianNoise,ToTensor)\n",
    "\n",
    "monai.config.print_config()\n",
    "logging.basicConfig(stream=sys.stdout, level=logging.INFO)"
   ]
  },
  {
   "cell_type": "markdown",
   "metadata": {},
   "source": [
    "Set deterministic training for reproducibility"
   ]
  },
  {
   "cell_type": "code",
   "execution_count": null,
   "metadata": {},
   "outputs": [],
   "source": [
    "import loss"
   ]
  },
  {
   "cell_type": "code",
   "execution_count": 2,
   "metadata": {},
   "outputs": [],
   "source": [
    "attempt = datetime.now().strftime(\"%Y-%j-%M\")\n",
    "set_determinism(seed=0)"
   ]
  },
  {
   "cell_type": "markdown",
   "metadata": {},
   "source": [
    "## Data Preprocess"
   ]
  },
  {
   "cell_type": "markdown",
   "metadata": {},
   "source": [
    "Resampling and store them in another folder"
   ]
  },
  {
   "cell_type": "code",
   "execution_count": 11,
   "metadata": {},
   "outputs": [],
   "source": [
    "script_dir = os.getcwd()\n",
    "new_rawimg_dir = os.path.join(script_dir, \"data\", \"BLT_radiomics\", \"image_files\", \"images_raw\")\n",
    "new_rawseg_dir = os.path.join(script_dir, \"data\", \"BLT_radiomics\", \"image_files\", \"segs_old_raw\")\n",
    "resampling_img_dir = os.path.join(script_dir, \"data\", \"BLT_radiomics\", \"image_files\", \"images_resampled\")\n",
    "resampling_seg_dir = os.path.join(script_dir, \"data\", \"BLT_radiomics\", \"image_files\", \"segs_old_resampled\")"
   ]
  },
  {
   "cell_type": "code",
   "execution_count": 12,
   "metadata": {},
   "outputs": [
    {
     "name": "stdout",
     "output_type": "stream",
     "text": [
      "patient counts: 102\n",
      "{'004': 4, '006': 4, '007': 4, '008': 4, '010': 4, '011': 4, '012': 4, '013': 4, '014': 4, '016': 4, '017': 4, '018': 4, '019': 4, '020': 4, '021': 4, '022': 4, '023': 4, '025': 4, '026': 4, '027': 4, '030': 4, '032': 4, '033': 4, '034': 4, '035': 4, '039': 4, '043': 4, '044': 4, '046': 4, '047': 4, '048': 4, '050': 4, '051': 4, '053': 4, '055': 4, '056': 4, '058': 4, '059': 4, '060': 4, '062': 4, '063': 4, '065': 4, '066': 4, '067': 4, '069': 4, '073': 4, '074': 4, '075': 4, '076': 4, '078': 4, '079': 4, '080': 4, '083': 4, '092': 4, '097': 4, '099': 4, '102': 4, '104': 4, '105': 4, '106': 4, '108': 4, '109': 4, '110': 4, '111': 4, '112': 4, '113': 4, '114': 4, '116': 4, '117': 4, '118': 4, '120': 4, '123': 4, '124': 4, '125': 4, '176': 4, '177': 4, '178': 4, '179': 4, '180': 4, '181': 4, '182': 4, '183': 4, '185': 4, '186': 4, '187': 4, '188': 4, '189': 4, '190': 4, '277': 4, '280': 4, '282': 4, '285': 4, '288': 4, '290': 4, '291': 4, '299': 4, '301': 4, '311': 4, '315': 4, '318': 4, '319': 4, '324': 4}\n"
     ]
    }
   ],
   "source": [
    "# get a list of all the patient IDs and set the mask path\n",
    "patient_IDs = dict()\n",
    "for file in os.listdir(new_rawimg_dir):\n",
    "    if file.endswith(\".nii.gz\"):\n",
    "        ID = file.split(\"_\")[1]\n",
    "        if ID not in patient_IDs:\n",
    "            patient_IDs[ID] = 1\n",
    "        else:\n",
    "            patient_IDs[ID] += 1\n",
    "    else:\n",
    "        continue\n",
    "print(f\"patient counts: {len(patient_IDs)}\")\n",
    "print(patient_IDs)"
   ]
  },
  {
   "cell_type": "markdown",
   "metadata": {},
   "source": [
    "Create 4D image and segmentation"
   ]
  },
  {
   "cell_type": "code",
   "execution_count": 16,
   "metadata": {},
   "outputs": [],
   "source": [
    "def create_4Dimage_array(ID, is_seg=False):\n",
    "    '''\n",
    "    Update the created image arrary with the loaded image data\n",
    "\n",
    "    Args:\n",
    "        ID: Patient ID\n",
    "        is_seg: Set True if the file is segmentation (mask)\n",
    "    Returns:\n",
    "        A 4D numpy array contains 4 images or 4 duplicated segmentations.\n",
    "    '''\n",
    "    n_channel = patient_IDs[ID]\n",
    "    img_dir = os.path.join(resampling_img_dir, f\"BLT_{ID}_0000.nii.gz\")\n",
    "    img = sitk.ReadImage(img_dir)\n",
    "    ref_shape = img.GetSize()\n",
    "    x, y, z = ref_shape[2], ref_shape[1], ref_shape[0]\n",
    "    combined_img = np.zeros([n_channel, x, y, z], np.float32)\n",
    "\n",
    "    for i in range(n_channel):\n",
    "        if is_seg:\n",
    "            img_dir = os.path.join(resampling_seg_dir, f\"BLT_{ID}_000{i}.nii.gz\")\n",
    "        else:\n",
    "            img_dir = os.path.join(resampling_img_dir, f\"BLT_{ID}_000{i}.nii.gz\")\n",
    "        img = sitk.ReadImage(img_dir)\n",
    "        img_array = sitk.GetArrayFromImage(img)\n",
    "        combined_img[i] = img_array\n",
    "    return combined_img"
   ]
  },
  {
   "cell_type": "code",
   "execution_count": 35,
   "metadata": {},
   "outputs": [],
   "source": [
    "changed_img_path = \"C:/Users/Yin/Desktop/Vrije_courses/internship/codes/data/BLT_radiomics/image_files/images_resampled/BLT_050_0000.nii.gz\"\n",
    "unchanged_seg_path = \"C:/Users/Yin/Desktop/Vrije_courses/internship/codes/data/BLT_radiomics/image_files/segs_old_raw/BLT_050_0000.nii.gz\""
   ]
  },
  {
   "cell_type": "code",
   "execution_count": 36,
   "metadata": {},
   "outputs": [],
   "source": [
    "metadata = {\n",
    "    \"shape\": [],\n",
    "    \"spacing\": [],\n",
    "    \"direction\": [],\n",
    "    \"origin\": [],\n",
    "    \"pixelvalue\": []}"
   ]
  },
  {
   "cell_type": "code",
   "execution_count": 37,
   "metadata": {},
   "outputs": [
    {
     "data": {
      "text/plain": [
       "{'shape': (313, 313, 83),\n",
       " 'spacing': (1.4062750339508057, 1.4062750339508057, 2.499995708465576),\n",
       " 'direction': (1.0, 0.0, 0.0, 0.0, -1.0, 0.0, 0.0, 0.0, 1.0),\n",
       " 'origin': (-225.7030029296875, 223.64700317382812, -79.85890197753906),\n",
       " 'pixelvalue': [],\n",
       " 'pixelvlue': 2}"
      ]
     },
     "execution_count": 37,
     "metadata": {},
     "output_type": "execute_result"
    }
   ],
   "source": [
    "changed_img = sitk.ReadImage(changed_img_path)\n",
    "metadata[\"origin\"] = changed_img.GetOrigin()\n",
    "metadata[\"spacing\"] = changed_img.GetSpacing()\n",
    "metadata[\"shape\"] = changed_img.GetSize()\n",
    "metadata[\"direction\"] = changed_img.GetDirection()\n",
    "metadata[\"pixelvlue\"] = changed_img.GetPixelIDValue()\n",
    "metadata"
   ]
  },
  {
   "cell_type": "code",
   "execution_count": 38,
   "metadata": {},
   "outputs": [
    {
     "name": "stdout",
     "output_type": "stream",
     "text": [
      "(-225.7030029296875, 223.64700317382812, -79.85890197753906)\n",
      "(1.4062750339508057, 1.4062750339508057, 2.499995708465576)\n"
     ]
    }
   ],
   "source": [
    "unchanged_seg = sitk.ReadImage(unchanged_seg_path)\n",
    "unchanged_seg.SetOrigin(metadata[\"origin\"])\n",
    "unchanged_seg.SetSpacing(metadata[\"spacing\"])\n",
    "unchanged_seg.SetDirection(metadata[\"direction\"])\n",
    "print(unchanged_seg.GetOrigin())\n",
    "print(unchanged_seg.GetSpacing())\n",
    "sitk.WriteImage(unchanged_seg, fileName=\"BLT_050_0000_new.nii.gz\")"
   ]
  },
  {
   "cell_type": "code",
   "execution_count": 43,
   "metadata": {},
   "outputs": [],
   "source": [
    "for ID in [\"039\", \"050\"]:\n",
    "    \n",
    "    ####################\n",
    "    ### Combinations ###\n",
    "    ####################\n",
    "    \n",
    "    spacing_4D = (1.4062749743461609, 1.4062749743461609, 2.499995708465576, 1)\n",
    "    \n",
    "    ## Load image ##\n",
    "    img_4D = create_4Dimage_array(ID, is_seg=False)\n",
    "    image_itk_4D = itk.image_view_from_array(img_4D)\n",
    "    image_itk_4D.SetSpacing(spacing_4D)\n",
    "    \n",
    "    ## Load segmentation ##\n",
    "    mask_4D = create_4Dimage_array(ID, is_seg=True)\n",
    "    mask_itk_4D = itk.image_view_from_array(mask_4D)\n",
    "    mask_itk_4D.SetSpacing(spacing_4D)\n",
    "    \n",
    "    # print(\"Save results\")\n",
    "    # Set the path for saving 4D images\n",
    "    img4D_out_dir = os.path.join(script_dir, \"data\", \"BLT_radiomics\", \"image_files\", \"4D_old_NP\", \"images\", f\"BLT_{ID}.nii.gz\")\n",
    "    seg4D_out_dir = os.path.join(script_dir, \"data\", \"BLT_radiomics\", \"image_files\", \"4D_old_NP\", \"segs\", f\"BLT_{ID}.nii.gz\")\n",
    "    itk.imwrite(image_itk_4D, img4D_out_dir)\n",
    "    itk.imwrite(mask_itk_4D, seg4D_out_dir)"
   ]
  },
  {
   "cell_type": "markdown",
   "metadata": {},
   "source": [
    "# DenseNet"
   ]
  },
  {
   "cell_type": "code",
   "execution_count": 3,
   "metadata": {},
   "outputs": [],
   "source": [
    "def check_dataoverlap(train_x, val_x, test_x):\n",
    "    # Check dataoverlap\n",
    "    overlap = set(train_x) & set(val_x) & set(test_x)\n",
    "\n",
    "    # Check if there is any overlap\n",
    "    if overlap:\n",
    "        print(f\"The following elements are overlapped: {overlap}\")\n",
    "    else:\n",
    "        print(\"The data have no overlapping elements.\")"
   ]
  },
  {
   "cell_type": "code",
   "execution_count": 4,
   "metadata": {},
   "outputs": [
    {
     "name": "stdout",
     "output_type": "stream",
     "text": [
      "image data count: 102.\n",
      "segmetation data count: 102.\n",
      "number of class: 3\n"
     ]
    }
   ],
   "source": [
    "## set the data and label path\n",
    "script_dir = os.getcwd()\n",
    "model_dir = os.path.join(script_dir, \"data\", \"BLT_radiomics\", \"models\")\n",
    "img4D_dir = os.path.join(script_dir, \"data\", \"BLT_radiomics\", \"image_files\", \"4D_old_NP\", \"images\")\n",
    "seg4D_dir = os.path.join(script_dir, \"data\", \"BLT_radiomics\", \"image_files\", \"4D_old_NP\", \"segs\")\n",
    "\n",
    "# image files\n",
    "images = []\n",
    "for file in os.listdir(img4D_dir):\n",
    "    if file.endswith(\".nii.gz\"):\n",
    "        images.append(os.path.join(img4D_dir, file))\n",
    "    \n",
    "# segmentation files\n",
    "segs = []\n",
    "for file in os.listdir(seg4D_dir):\n",
    "    if file.endswith(\".nii.gz\"):\n",
    "        segs.append(os.path.join(seg4D_dir, file))\n",
    "    \n",
    "# label data\n",
    "label_dir = os.path.join(script_dir, \"data\", \"BLT_radiomics\", \"labels_all_phases_NEW.csv\")\n",
    "# change label to numpy type\n",
    "labels = pd.read_csv(label_dir)[\"Pheno\"].to_numpy()\n",
    "labels[labels == 4] = 2\n",
    "# labels = pd.read_csv(label_dir)[['HCA', 'FNH', 'HCC']].to_numpy()\n",
    "num_class = len(np.unique(labels, axis=0))\n",
    "\n",
    "# print(images)\n",
    "# print(segs)\n",
    "print(f\"image data count: {len(images)}.\\nsegmetation data count: {len(segs)}.\\nnumber of class: {num_class}\")"
   ]
  },
  {
   "cell_type": "code",
   "execution_count": 5,
   "metadata": {},
   "outputs": [],
   "source": [
    "# # Check data imbalance\n",
    "# sum_phenotype = np.sum(labels, axis=0)\n",
    "\n",
    "# fig, ax = plt.subplots()\n",
    "# phenotpe = ['HCA', 'FNH', 'HCC']\n",
    "# bars = ax.bar(phenotpe, sum_phenotype)\n",
    "# plt.xlabel('Phenotype')\n",
    "# plt.ylabel('Counts')\n",
    "\n",
    "# bar_color = bars[0].get_facecolor()\n",
    "# for bar in bars:\n",
    "#   ax.text(\n",
    "#       bar.get_x() + bar.get_width() / 2,\n",
    "#       bar.get_height() + 0.3,\n",
    "#       round(bar.get_height(), 1),\n",
    "#       horizontalalignment='center',\n",
    "#       color=bar_color,\n",
    "#       weight='bold'\n",
    "#   )\n",
    "\n",
    "# fig.tight_layout()"
   ]
  },
  {
   "cell_type": "code",
   "execution_count": 6,
   "metadata": {},
   "outputs": [],
   "source": [
    "# # Encoding\n",
    "# # use factorize function to implement the encoding\n",
    "# print(\"Encoding the labels into numeric data.\")\n",
    "# labels = pd.Categorical(labels, categories=['FNH', 'HCA', 'iCCA', 'HCC'])\n",
    "# labels, labels_cat = pd.factorize(labels)\n",
    "# print(\"Label data after encoding: \")\n",
    "# print(labels)\n",
    "# print(\"Corresponding label: \")\n",
    "# print(labels_cat)"
   ]
  },
  {
   "cell_type": "code",
   "execution_count": 7,
   "metadata": {},
   "outputs": [],
   "source": [
    "# # Load the NIfTI image\n",
    "# # may chane the number to get different image\n",
    "# pickedimage = np.random.randint(len(images))\n",
    "# nii_image = nib.load(images[pickedimage])\n",
    "\n",
    "# # Get the image data as a NumPy array\n",
    "# image_data = nii_image.get_fdata()\n",
    "\n",
    "# # Create a figure with multiple subplots\n",
    "# num_slices = image_data.shape[2]  # Number of slices in the z-axis\n",
    "# rows, cols = 2, 3  # Define the number of rows and columns for the subplots\n",
    "# fig, axes = plt.subplots(rows, cols, figsize=(12, 8))\n",
    "\n",
    "# # Plot slices in the subplots\n",
    "# for i in range(rows):\n",
    "#     for j in range(cols):\n",
    "#         slice_index = i * cols + j\n",
    "#         if slice_index < num_slices:\n",
    "#             ax = axes[i, j]\n",
    "#             ax.imshow(image_data[:, :, slice_index], cmap='gray')\n",
    "#             ax.set_title(f'Slice {slice_index}')\n",
    "#             ax.axis('off')\n",
    "\n",
    "# # Adjust layout and show the subplots\n",
    "# plt.title = f\"image {pickedimage}\"\n",
    "# plt.tight_layout()\n",
    "# plt.show()\n"
   ]
  },
  {
   "cell_type": "markdown",
   "metadata": {},
   "source": [
    "## Prepare training\n",
    "\n",
    "Randomly select 10% of the dataset as validation and 10% as test"
   ]
  },
  {
   "cell_type": "code",
   "execution_count": 8,
   "metadata": {},
   "outputs": [
    {
     "name": "stdout",
     "output_type": "stream",
     "text": [
      "im.shape:  (284, 284, 83, 4)\n",
      "mask.shape:  (284, 284, 83, 4)\n",
      "mask values: [0. 1.]\n"
     ]
    }
   ],
   "source": [
    "# load a single image to get the shape\n",
    "im = sitk.ReadImage(images[0])\n",
    "im = im.GetSize()\n",
    "print('im.shape: ', im)\n",
    "\n",
    "# get shape mask\n",
    "mask = sitk.ReadImage(segs[0])\n",
    "arr_mask = sitk.GetArrayFromImage(mask)\n",
    "mask = mask.GetSize()\n",
    "print('mask.shape: ', mask)\n",
    "print(f'mask values: {np.unique(arr_mask)}')"
   ]
  },
  {
   "cell_type": "code",
   "execution_count": 9,
   "metadata": {},
   "outputs": [
    {
     "ename": "NameError",
     "evalue": "name 'train_x' is not defined",
     "output_type": "error",
     "traceback": [
      "\u001b[1;31m---------------------------------------------------------------------------\u001b[0m",
      "\u001b[1;31mNameError\u001b[0m                                 Traceback (most recent call last)",
      "Cell \u001b[1;32mIn[9], line 21\u001b[0m\n\u001b[0;32m     10\u001b[0m y_pred_trans \u001b[38;5;241m=\u001b[39m Compose([Activations(softmax\u001b[38;5;241m=\u001b[39m\u001b[38;5;28;01mTrue\u001b[39;00m)])\n\u001b[0;32m     12\u001b[0m \u001b[38;5;66;03m# # Define image dataset, data loader\u001b[39;00m\n\u001b[0;32m     13\u001b[0m \u001b[38;5;66;03m# check_ds = ImageDataset(image_files=images, seg_files=segs, labels=labels,\u001b[39;00m\n\u001b[0;32m     14\u001b[0m \u001b[38;5;66;03m#                         transform=train_transforms, seg_transform=train_transforms)\u001b[39;00m\n\u001b[1;32m   (...)\u001b[0m\n\u001b[0;32m     19\u001b[0m \n\u001b[0;32m     20\u001b[0m \u001b[38;5;66;03m# create a training data loader\u001b[39;00m\n\u001b[1;32m---> 21\u001b[0m train_ds \u001b[38;5;241m=\u001b[39m ImageDataset(image_files\u001b[38;5;241m=\u001b[39m\u001b[43mtrain_x\u001b[49m, seg_files\u001b[38;5;241m=\u001b[39mtrain_seg, labels\u001b[38;5;241m=\u001b[39mtrain_y,\n\u001b[0;32m     22\u001b[0m                         transform\u001b[38;5;241m=\u001b[39mtrain_transforms, seg_transform\u001b[38;5;241m=\u001b[39mtrain_transforms)\n\u001b[0;32m     23\u001b[0m train_loader \u001b[38;5;241m=\u001b[39m DataLoader(train_ds, batch_size\u001b[38;5;241m=\u001b[39m\u001b[38;5;241m15\u001b[39m, shuffle\u001b[38;5;241m=\u001b[39m\u001b[38;5;28;01mTrue\u001b[39;00m, num_workers\u001b[38;5;241m=\u001b[39m\u001b[38;5;241m2\u001b[39m, pin_memory\u001b[38;5;241m=\u001b[39mtorch\u001b[38;5;241m.\u001b[39mcuda\u001b[38;5;241m.\u001b[39mis_available())\n\u001b[0;32m     25\u001b[0m \u001b[38;5;66;03m# create a validation data loader\u001b[39;00m\n",
      "\u001b[1;31mNameError\u001b[0m: name 'train_x' is not defined"
     ]
    }
   ],
   "source": [
    "# Define transforms\n",
    "train_transforms = Compose([\n",
    "    EnsureChannelFirst(), Resize((78,78,31)),\n",
    "    # Data augmentation\n",
    "    RandRotate(range_z = 0.35, prob = 0.3), RandFlip(prob = 0.5), \n",
    "    RandGaussianNoise(std=0.05, prob=0.5),\n",
    "    RandZoom(prob = 0.3, min_zoom=1.0, max_zoom=1.2), ToTensor()])\n",
    "val_transforms = Compose([EnsureChannelFirst(), Resize((78,78,31))])\n",
    "y_trans = Compose([AsDiscrete(to_onehot=num_class)])\n",
    "y_pred_trans = Compose([Activations(softmax=True)])\n",
    "\n",
    "# # Define image dataset, data loader\n",
    "# check_ds = ImageDataset(image_files=images, seg_files=segs, labels=labels,\n",
    "#                         transform=train_transforms, seg_transform=train_transforms)\n",
    "# check_loader = DataLoader(check_ds, batch_size=15, num_workers=2, pin_memory=torch.cuda.is_available())\n",
    "# # check the data\n",
    "# im, seg, label = monai.utils.misc.first(check_loader)\n",
    "# print(type(im), im.shape, seg.shape, label)\n",
    "\n",
    "# create a training data loader\n",
    "train_ds = ImageDataset(image_files=train_x, seg_files=train_seg, labels=train_y,\n",
    "                        transform=train_transforms, seg_transform=train_transforms)\n",
    "train_loader = DataLoader(train_ds, batch_size=15, shuffle=True, num_workers=2, pin_memory=torch.cuda.is_available())\n",
    "\n",
    "# create a validation data loader\n",
    "val_ds = ImageDataset(image_files=val_x, seg_files=val_seg, labels=val_y, \n",
    "                      transform=val_transforms, seg_transform=val_transforms)\n",
    "val_loader = DataLoader(val_ds, batch_size=25, num_workers=2, pin_memory=torch.cuda.is_available())\n",
    "\n",
    "# create a test data loader\n",
    "test_ds = ImageDataset(image_files=test_x, seg_files=test_seg, labels=test_y, \n",
    "                       transform=val_transforms, seg_transform=val_transforms)\n",
    "test_loader = DataLoader(test_ds, batch_size=25, num_workers=2, pin_memory=torch.cuda.is_available())"
   ]
  },
  {
   "cell_type": "code",
   "execution_count": null,
   "metadata": {},
   "outputs": [],
   "source": [
    "class EMA:\n",
    "    def __init__(self, model):\n",
    "        self.model = model\n",
    "        self.decay = 1 / 10\n",
    "        self.shadow = {} # follow the updates of the model parameters\n",
    "        self.backup = {} # store the original model parameters\n",
    "        self.num_updates = 0\n",
    "\n",
    "        # Initialize shadow weights and backup weights with the model's initial parameters\n",
    "        for name, param in model.named_parameters():\n",
    "            if param.requires_grad:\n",
    "                self.shadow[name] = param.data.clone()\n",
    "                self.backup[name] = param.data.clone()\n",
    "\n",
    "    def update(self):\n",
    "        # Update the number of updates\n",
    "        self.num_updates += 1\n",
    "\n",
    "        # Calculate the decay rate based on the current number of updates\n",
    "        decay = (1 + self.num_updates) / (10 + self.num_updates)\n",
    "\n",
    "        # Update the shadow weights\n",
    "        with torch.no_grad():\n",
    "            for name, param in self.model.named_parameters():\n",
    "                if param.requires_grad:\n",
    "                    new_average = (1.0 - decay) * param.data + decay * self.shadow[name]\n",
    "                    self.shadow[name] = new_average\n",
    "\n",
    "    def apply_shadow(self):\n",
    "        # Apply the shadow weights to the model\n",
    "        for name, param in self.model.named_parameters():\n",
    "            if param.requires_grad:\n",
    "                self.backup[name] = param.data\n",
    "                param.data = self.shadow[name]\n",
    "\n",
    "    def restore(self):\n",
    "        # Restore the original model parameters\n",
    "        for name, param in self.model.named_parameters():\n",
    "            if param.requires_grad:\n",
    "                param.data = self.backup[name]"
   ]
  },
  {
   "cell_type": "code",
   "execution_count": null,
   "metadata": {},
   "outputs": [],
   "source": [
    "# Create DenseNet121, CrossEntropyLoss and Adam optimizer\n",
    "device = torch.device(\"cuda\" if torch.cuda.is_available() else \"cpu\")\n",
    "model = monai.networks.nets.DenseNet121(spatial_dims=3, in_channels=8, out_channels=num_class).to(device)\n",
    "softmax = torch.nn.Softmax()\n",
    "loss_function = torch.nn.CrossEntropyLoss()\n",
    "optimizer = torch.optim.Adam(model.parameters(), lr=0.0001)\n",
    "auc_metric = ROCAUCMetric()\n",
    "ema = EMA(model)"
   ]
  },
  {
   "cell_type": "code",
   "execution_count": 96,
   "metadata": {},
   "outputs": [
    {
     "name": "stdout",
     "output_type": "stream",
     "text": [
      "---------------\n",
      "epoch 1/3\n",
      "1/4, train_loss: 1.0524\n",
      "2/4, train_loss: 1.2318\n",
      "3/4, train_loss: 1.0162\n",
      "4/4, train_loss: 1.0944\n",
      "epoch 1 average loss: 1.0987\n",
      "---Validate---\n",
      "saved new best metric model\n",
      "Current epoch: 1\n",
      "AUC: 0.2218; Accuracy: 0.3333\n",
      "Best AUC: 0.2218 at epoch 1\n",
      "---------------\n",
      "epoch 2/3\n",
      "1/4, train_loss: 1.0114\n",
      "2/4, train_loss: 1.0026\n",
      "3/4, train_loss: 1.0060\n",
      "4/4, train_loss: 1.0864\n",
      "epoch 2 average loss: 1.0266\n",
      "---Validate---\n",
      "saved new best metric model\n",
      "Current epoch: 2\n",
      "AUC: 0.4264; Accuracy: 0.3810\n",
      "Best AUC: 0.4264 at epoch 2\n",
      "---------------\n",
      "epoch 3/3\n",
      "1/4, train_loss: 0.9433\n",
      "2/4, train_loss: 0.8941\n",
      "3/4, train_loss: 1.3519\n",
      "4/4, train_loss: 0.8746\n",
      "epoch 3 average loss: 1.0160\n",
      "---Validate---\n",
      "saved new best metric model\n",
      "Current epoch: 3\n",
      "AUC: 0.7882; Accuracy: 0.6190\n",
      "Best AUC: 0.7882 at epoch 3\n",
      "train completed, best_metric: 0.7882 at epoch: 3\n"
     ]
    }
   ],
   "source": [
    "# start a typical PyTorch training\n",
    "max_epochs = 3\n",
    "val_interval = 1\n",
    "best_metric = -1\n",
    "best_metric_epoch = -1\n",
    "writer = SummaryWriter()\n",
    "\n",
    "# store the data\n",
    "history = {\n",
    "    \"epoch_loss_values\": [],\n",
    "    \"tr_AUC_values\": [],\n",
    "    \"ts_AUC_values\": [],\n",
    "    \"ts_ACC_values\": [],\n",
    "    \"lrs\": []\n",
    "}\n",
    "\n",
    "for epoch in range(max_epochs):\n",
    "    print(\"-\" * 15)\n",
    "    print(f\"epoch {epoch + 1}/{max_epochs}\")\n",
    "    model.train()\n",
    "    epoch_loss = 0\n",
    "    step = 0\n",
    "    for batch_data in train_loader:\n",
    "        step += 1\n",
    "        y_pred = torch.tensor([], dtype=torch.float32, device=device)\n",
    "        y = torch.tensor([], dtype=torch.long, device=device)\n",
    "        \n",
    "        train_images, train_segs, train_labels = (\n",
    "            batch_data[0].to(device), \n",
    "            batch_data[1].to(device), \n",
    "            batch_data[2].to(device))\n",
    "        masked_train_images = torch.cat((train_images,train_segs), dim=1) \n",
    "        \n",
    "        optimizer.zero_grad()\n",
    "        # print(f\"current lr: {optimizer.param_groups[0]['lr']}\")\n",
    "        train_pred = model(masked_train_images)\n",
    "        loss = loss_function(train_pred, train_labels)\n",
    "        loss.backward()\n",
    "        optimizer.step()\n",
    "        # lrs.append(optimizer.param_groups[0][\"lr\"])\n",
    "        # scheduler.step()\n",
    "        ema.update()\n",
    "        epoch_loss += loss.item()\n",
    "        \n",
    "        epoch_len = len(train_ds) // train_loader.batch_size\n",
    "        print(f\"{step}/{epoch_len}, train_loss: {loss.item():.4f}\")\n",
    "        writer.add_scalar(\"train_loss\", loss.item(), epoch_len * epoch + step)\n",
    "        \n",
    "    # Calculate train AUC\n",
    "        y_pred = torch.cat([y_pred, train_pred], dim=0)\n",
    "        y = torch.cat([y, train_labels], dim=0)\n",
    "    y_onehot = [y_trans(i) for i in decollate_batch(y, detach=False)]\n",
    "    y_pred_act = [y_pred_trans(i) for i in decollate_batch(y_pred)]\n",
    "    auc_metric(y_pred_act, y_onehot)\n",
    "    auc_value = auc_metric.aggregate()\n",
    "    auc_metric.reset()\n",
    "    del y_pred_act, y_onehot\n",
    "    history[\"tr_AUC_values\"].append(auc_value)\n",
    "    \n",
    "    epoch_loss /= step\n",
    "    history[\"epoch_loss_values\"].append(epoch_loss)\n",
    "    print(f\"epoch {epoch + 1} average loss: {epoch_loss:.4f}\")\n",
    "    \n",
    "    if (epoch + 1) % val_interval == 0:\n",
    "        print(\"-\"*3+\"Validate\"+\"-\"*3)\n",
    "        ema.apply_shadow()\n",
    "        model.eval()\n",
    "        \n",
    "        num_correct = 0.0\n",
    "        metric_count = 0\n",
    "        \n",
    "        with torch.no_grad():\n",
    "            for val_data in val_loader:\n",
    "                y_val_pred = torch.tensor([], dtype=torch.float32, device=device)\n",
    "                y_val = torch.tensor([], dtype=torch.long, device=device)\n",
    "                \n",
    "                val_images, val_segs, val_labels = (\n",
    "                    val_data[0].to(device),\n",
    "                    val_data[1].to(device),\n",
    "                    val_data[2].to(device))\n",
    "                \n",
    "                masked_val_images = torch.cat((val_images,val_segs), dim=1) # use mask\n",
    "                val_pred = model(masked_val_images)\n",
    "                val_argmax = val_pred.argmax(dim=1)\n",
    "                val_acc = torch.eq(val_argmax, val_labels)\n",
    "                metric_count += len(val_acc)\n",
    "                num_correct += val_acc.sum().item()\n",
    "                \n",
    "            # Calculate AUC\n",
    "                y_val_pred = torch.cat([y_val_pred, val_pred], dim=0)\n",
    "                y_val = torch.cat([y_val, val_labels], dim=0)\n",
    "            y_val_onehot = [y_trans(i) for i in decollate_batch(y_val, detach=False)]\n",
    "            y_val_pred_act = [y_pred_trans(i) for i in decollate_batch(y_val_pred)]\n",
    "            auc_metric(y_val_pred_act, y_val_onehot)\n",
    "            val_auc_value = auc_metric.aggregate()\n",
    "            auc_metric.reset()\n",
    "            del y_val_pred_act, y_val_onehot\n",
    "            history[\"ts_AUC_values\"].append(val_auc_value)\n",
    "            \n",
    "            # Calculate Accuracy\n",
    "            val_acc_value = num_correct / metric_count\n",
    "            history[\"ts_ACC_values\"].append(val_acc_value)\n",
    "            \n",
    "            if val_auc_value > best_metric:\n",
    "                best_metric = val_auc_value\n",
    "                best_metric_epoch = epoch + 1\n",
    "                save_model = os.path.join(model_dir, attempt+\"_baseline.pth\")\n",
    "                torch.save(model.state_dict(), save_model)\n",
    "                print(\"saved new best metric model\")\n",
    "            print(f\"Current epoch: {epoch+1}\")\n",
    "            print(f\"AUC: {val_auc_value:.4f}; Accuracy: {val_acc_value:.4f}\")\n",
    "            print(f\"Best AUC: {best_metric:.4f} at epoch {best_metric_epoch}\")\n",
    "            writer.add_scalar(\"val_AUC\", val_auc_value, epoch + 1)\n",
    "            ema.restore()\n",
    "    \n",
    "print(f\"train completed, best_metric: {best_metric:.4f} \" f\"at epoch: {best_metric_epoch}\")\n",
    "writer.close()"
   ]
  },
  {
   "cell_type": "code",
   "execution_count": 108,
   "metadata": {},
   "outputs": [
    {
     "data": {
      "image/png": "[encoded data removed]",
      "text/plain": [
       "<Figure size 2500x600 with 3 Axes>"
      ]
     },
     "metadata": {},
     "output_type": "display_data"
    },
    {
     "data": {
      "text/plain": [
       "<Figure size 640x480 with 0 Axes>"
      ]
     },
     "metadata": {},
     "output_type": "display_data"
    }
   ],
   "source": [
    "plt.figure(\"train\", (25, 6))\n",
    "plt.subplot(1, 3, 1)\n",
    "plt.title(\"Epoch Average Loss\")\n",
    "x = [i + 1 for i in range(len(history[\"epoch_loss_values\"]))]\n",
    "y = history[\"epoch_loss_values\"]\n",
    "plt.xlabel(\"epoch\")\n",
    "plt.plot(x, y)\n",
    "\n",
    "plt.subplot(1, 3, 2)\n",
    "plt.title(\"Val AUC\")\n",
    "x = [val_interval * (i + 1) for i in range(len(history[\"tr_AUC_values\"]))]\n",
    "y1 = history[\"tr_AUC_values\"]\n",
    "y2 = history[\"ts_AUC_values\"]\n",
    "plt.xlabel(\"epoch\")\n",
    "plt.plot(x, y1, label=\"training\")\n",
    "plt.plot(x, y2, label=\"validation\")\n",
    "plt.legend()\n",
    "\n",
    "plt.subplot(1, 3, 3)\n",
    "plt.title(\"Val accuracy\")\n",
    "x = [val_interval * (i + 1) for i in range(len(history[\"ts_ACC_values\"]))]\n",
    "y = history[\"ts_ACC_values\"]\n",
    "plt.xlabel(\"epoch\")\n",
    "plt.plot(x, y)\n",
    "save_dir = os.path.join(model_dir, \"snap\", attempt+\"_base_snap.png\")\n",
    "plt.savefig(save_dir)\n",
    "plt.show()\n",
    "plt.clf()"
   ]
  },
  {
   "cell_type": "code",
   "execution_count": 112,
   "metadata": {},
   "outputs": [
    {
     "name": "stdout",
     "output_type": "stream",
     "text": [
      "Random state seed used: 42\n"
     ]
    }
   ],
   "source": [
    "random_state = 42\n",
    "sss1 = StratifiedShuffleSplit(n_splits=1, test_size=0.2, random_state=random_state)\n",
    "train_val_idx, test_idx = next(sss1.split(list(range(len(images))), labels))\n",
    "\n",
    "# Further split train+val into train and val sets\n",
    "sss2 = StratifiedShuffleSplit(n_splits=1, test_size=0.25, random_state=random_state)  # 0.25 x 0.8 = 0.2\n",
    "train_idx, val_idx = next(sss2.split(train_val_idx, [labels[i] for i in train_val_idx]))\n",
    "\n",
    "# seed = random_state.get_state()[1][0]\n",
    "print(f\"Random state seed used: {random_state}\")"
   ]
  },
  {
   "cell_type": "code",
   "execution_count": 101,
   "metadata": {},
   "outputs": [
    {
     "data": {
      "image/png": "[encoded data removed]",
      "text/plain": [
       "<Figure size 640x480 with 1 Axes>"
      ]
     },
     "metadata": {},
     "output_type": "display_data"
    }
   ],
   "source": [
    "# Calculate mean and standard deviation for both training and test AUC\n",
    "mean_ts = np.mean(history[\"ts_AUC_values\"])\n",
    "std_ts = np.std(history[\"ts_AUC_values\"])\n",
    "mean_tr = np.mean(history[\"tr_AUC_values\"])\n",
    "std_tr = np.std(history[\"tr_AUC_values\"])\n",
    "\n",
    "# Create an array of x values\n",
    "x = range(len(history[\"ts_AUC_values\"]))\n",
    "\n",
    "# Plot test AUC values\n",
    "plt.plot(x, history[\"ts_AUC_values\"], label='Test AUC', color='#06592A')\n",
    "plt.fill_between(x, history[\"ts_AUC_values\"] - std_ts, history[\"ts_AUC_values\"] + std_ts, color='#06592A', alpha=0.2, label='Test Mean ± Std Dev')\n",
    "\n",
    "# Plot training AUC values\n",
    "plt.plot(x, history[\"tr_AUC_values\"], label='Train AUC', color='#1F77B4')\n",
    "plt.fill_between(x, history[\"tr_AUC_values\"] - std_tr, history[\"tr_AUC_values\"] + std_tr, color='#1F77B4', alpha=0.2, label='Train Mean ± Std Dev')\n",
    "\n",
    "# Plot a horizontal line at y=0.5 to represent random chance\n",
    "plt.axhline(y=0.5, color='black', linestyle='--', lw=0.8, label='Random')\n",
    "\n",
    "# Set the x and y axis limits\n",
    "plt.xlim()\n",
    "plt.ylim(bottom=0)\n",
    "\n",
    "# Add title and legend\n",
    "plt.title('Training and Validation AUC')\n",
    "plt.legend()\n",
    "\n",
    "save_dir = os.path.join(model_dir, \"snap\", attempt + \"_base_AUC_snap.png\")\n",
    "plt.savefig(save_dir)\n",
    "\n",
    "# Show the plot\n",
    "plt.show()"
   ]
  },
  {
   "cell_type": "code",
   "execution_count": 103,
   "metadata": {},
   "outputs": [
    {
     "name": "stdout",
     "output_type": "stream",
     "text": [
      "Test AUC: 0.671284667713239\n"
     ]
    }
   ],
   "source": [
    "model.load_state_dict(torch.load(os.path.join(model_dir, attempt+\"_baseline.pth\"), map_location=torch.device(\"cuda\" if torch.cuda.is_available() else \"cpu\")))\n",
    "ema.apply_shadow()\n",
    "with torch.no_grad():\n",
    "    model.eval()\n",
    "    y_ts_true_values = []\n",
    "    y_ts_pred_values = []\n",
    "    \n",
    "    for test_data in test_loader:\n",
    "        y_ts_pred = torch.tensor([], dtype=torch.float32, device=device)\n",
    "        y_ts = torch.tensor([], dtype=torch.long, device=device)\n",
    "        test_images, test_segs, test_labels = (\n",
    "            test_data[0].to(device),\n",
    "            test_data[1].to(device),\n",
    "            test_data[2].to(device))\n",
    "        \n",
    "        masked_test_images = torch.cat((test_images,test_segs), dim=1)\n",
    "        ts_pred = model(masked_test_images)\n",
    "        ts_pred_argmax = ts_pred.argmax(dim=1)\n",
    "        \n",
    "        for i in range(len(ts_pred_argmax)):\n",
    "            y_ts_true_values.append(test_labels[i].item())\n",
    "            y_ts_pred_values.append(ts_pred_argmax[i].item())\n",
    "            \n",
    "        y_ts_pred = torch.cat([y_ts_pred, ts_pred], dim=0)\n",
    "        y_ts = torch.cat([y_ts, test_labels], dim=0)\n",
    "        \n",
    "    y_ts_onehot = [y_trans(i) for i in decollate_batch(y_ts, detach=False)]\n",
    "    y_ts_pred_act = [y_pred_trans(i) for i in decollate_batch(y_ts_pred)]\n",
    "    auc_metric(y_ts_pred_act, y_ts_onehot)\n",
    "    ts_auc_value = auc_metric.aggregate()\n",
    "    print(f\"Test AUC: {ts_auc_value}\")"
   ]
  },
  {
   "cell_type": "code",
   "execution_count": 104,
   "metadata": {},
   "outputs": [
    {
     "name": "stdout",
     "output_type": "stream",
     "text": [
      "              precision    recall  f1-score   support\n",
      "\n",
      "         HCA      0.364     0.571     0.444         7\n",
      "         FNH      0.000     0.000     0.000         6\n",
      "         HCC      0.556     0.625     0.588         8\n",
      "\n",
      "    accuracy                          0.429        21\n",
      "   macro avg      0.306     0.399     0.344        21\n",
      "weighted avg      0.333     0.429     0.372        21\n",
      "\n"
     ]
    }
   ],
   "source": [
    "print(classification_report(y_ts_true_values, y_ts_pred_values, target_names=[\"HCA\",\"FNH\",\"HCC\"], digits=3))"
   ]
  },
  {
   "cell_type": "code",
   "execution_count": 105,
   "metadata": {},
   "outputs": [
    {
     "data": {
      "image/png": "[encoded data removed]",
      "text/plain": [
       "<Figure size 500x400 with 2 Axes>"
      ]
     },
     "metadata": {},
     "output_type": "display_data"
    }
   ],
   "source": [
    "# Creating  a confusion matrix,which compares the y_test and y_pred\n",
    "cm = confusion_matrix(y_ts_true_values, y_ts_pred_values)\n",
    "#Plotting the confusion matrix\n",
    "plt.figure(figsize=(5,4))\n",
    "sns.heatmap(cm, annot=True)\n",
    "plt.title('Confusion Matrix')\n",
    "plt.ylabel('Actal Values')\n",
    "plt.xlabel('Predicted Values')\n",
    "save_dir = os.path.join(model_dir, \"snap\", attempt+\"_base_confusion.png\")\n",
    "plt.savefig(save_dir)\n",
    "plt.show()"
   ]
  }
 ],
 "metadata": {
  "kernelspec": {
   "display_name": "BIGR",
   "language": "python",
   "name": "python3"
  },
  "language_info": {
   "codemirror_mode": {
    "name": "ipython",
    "version": 3
   },
   "file_extension": ".py",
   "mimetype": "text/x-python",
   "name": "python",
   "nbconvert_exporter": "python",
   "pygments_lexer": "ipython3",
   "version": "3.10.13"
  },
  "orig_nbformat": 4
 },
 "nbformat": 4,
 "nbformat_minor": 2
}
